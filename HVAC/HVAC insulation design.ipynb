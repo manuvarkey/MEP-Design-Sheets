{
 "cells": [
  {
   "cell_type": "code",
   "execution_count": 1,
   "id": "37665010",
   "metadata": {},
   "outputs": [
    {
     "data": {
      "text/plain": [
       "'kc'"
      ]
     },
     "metadata": {},
     "output_type": "display_data"
    },
    {
     "data": {
      "text/plain": [
       "1.935658106932367"
      ]
     },
     "metadata": {},
     "output_type": "display_data"
    },
    {
     "data": {
      "text/plain": [
       "'L'"
      ]
     },
     "metadata": {},
     "output_type": "display_data"
    },
    {
     "data": {
      "text/latex": [
       "$\\displaystyle \\left\\{0.0127432972684202\\right\\}$"
      ],
      "text/plain": [
       "{0.0127432972684202}"
      ]
     },
     "metadata": {},
     "output_type": "display_data"
    }
   ],
   "source": [
    "# Surface temperature of ducts with condensation control insulation\n",
    "\n",
    "# Case 1 inside room\n",
    "\n",
    "from sympy import symbols, Eq, solveset\n",
    "\n",
    "k = 0.037  # Nitrile rubber thermal conductivity\n",
    "L = symbols('L')  # Thickness of insulation\n",
    "Ta = 24  # Room air temperature\n",
    "Td = 14  # Duct surface temperature\n",
    "Ts = 18  # Insulation surface temperature\n",
    "\n",
    "# Convective heat transfer coefficient for horizontal cylinders\n",
    "# 2013 ASHRAE Handbook—Fundamentals (SI) T9.17\n",
    "D = 0.5  # Eq. dia of duct\n",
    "kc = 1.04*((Ta-Ts)/D)**(1/4)\n",
    "display('kc', kc)\n",
    "\n",
    "# Solve for Duct surface temperature\n",
    "q_eq = k*(Ts-Td)/L - kc*(Ta-Ts)\n",
    "L_solved = solveset(q_eq, L)\n",
    "display('L', L_solved)"
   ]
  },
  {
   "cell_type": "code",
   "execution_count": 2,
   "id": "4d814e10",
   "metadata": {},
   "outputs": [
    {
     "data": {
      "text/plain": [
       "'kc'"
      ]
     },
     "metadata": {},
     "output_type": "display_data"
    },
    {
     "data": {
      "text/plain": [
       "2.4186042233719798"
      ]
     },
     "metadata": {},
     "output_type": "display_data"
    },
    {
     "data": {
      "text/plain": [
       "'L'"
      ]
     },
     "metadata": {},
     "output_type": "display_data"
    },
    {
     "data": {
      "text/latex": [
       "$\\displaystyle \\left\\{0.0162133493503142\\right\\}$"
      ],
      "text/plain": [
       "{0.0162133493503142}"
      ]
     },
     "metadata": {},
     "output_type": "display_data"
    }
   ],
   "source": [
    "# Case 2 outside room - EPW Design conditions\n",
    "\n",
    "from sympy import symbols, Eq, solveset\n",
    "\n",
    "k = 0.037  # Nitrile rubber thermal conductivity\n",
    "L = symbols('L')  # Thickness of insulation\n",
    "Ta = 38.1  # Room air temperature\n",
    "Td = 14  # Duct surface temperature\n",
    "Ts = 26.4  # Insulation surface temperature\n",
    "\n",
    "# Convective heat transfer coefficient for horizontal cylinders\n",
    "# 2013 ASHRAE Handbook—Fundamentals (SI) T9.17\n",
    "D = 0.4  # Eq. dia of duct\n",
    "kc = 1.04*((Ta-Ts)/D)**(1/4)\n",
    "display('kc', kc)\n",
    "\n",
    "# Solve for Duct surface temperature\n",
    "q_eq = k*(Ts-Td)/L - kc*(Ta-Ts)\n",
    "L_solved = solveset(q_eq, L)\n",
    "display('L', L_solved)"
   ]
  },
  {
   "cell_type": "code",
   "execution_count": null,
   "id": "ad61d42c",
   "metadata": {},
   "outputs": [],
   "source": []
  }
 ],
 "metadata": {
  "kernelspec": {
   "display_name": "Python 3 (ipykernel)",
   "language": "python",
   "name": "python3"
  },
  "language_info": {
   "codemirror_mode": {
    "name": "ipython",
    "version": 3
   },
   "file_extension": ".py",
   "mimetype": "text/x-python",
   "name": "python",
   "nbconvert_exporter": "python",
   "pygments_lexer": "ipython3",
   "version": "3.10.6"
  }
 },
 "nbformat": 4,
 "nbformat_minor": 5
}
