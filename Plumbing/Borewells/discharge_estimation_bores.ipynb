{
 "cells": [
  {
   "cell_type": "code",
   "execution_count": 79,
   "id": "ac9405f0",
   "metadata": {},
   "outputs": [
    {
     "data": {
      "text/plain": [
       "6321.843301473656"
      ]
     },
     "metadata": {},
     "output_type": "display_data"
    }
   ],
   "source": [
    "from math import log\n",
    "\n",
    "# Confined aquifier\n",
    "\n",
    "R = 300  # Radius of zone of influence\n",
    "D = 6*(25.4/1000)  # Dia of borewell\n",
    "T = 10/(60*60*24)  # Hydraulic transmissivity\n",
    "S = 20  # Drawdown at well\n",
    "\n",
    "Q = 2*3.14*T*S/log(R/(D/2))  # Discharge at steady flow conditions\n",
    "display(Q*1000*3600)  # in L/Hr"
   ]
  },
  {
   "cell_type": "code",
   "execution_count": null,
   "id": "133d317c",
   "metadata": {},
   "outputs": [],
   "source": []
  }
 ],
 "metadata": {
  "kernelspec": {
   "display_name": "Python 3 (ipykernel)",
   "language": "python",
   "name": "python3"
  },
  "language_info": {
   "codemirror_mode": {
    "name": "ipython",
    "version": 3
   },
   "file_extension": ".py",
   "mimetype": "text/x-python",
   "name": "python",
   "nbconvert_exporter": "python",
   "pygments_lexer": "ipython3",
   "version": "3.10.12"
  }
 },
 "nbformat": 4,
 "nbformat_minor": 5
}
